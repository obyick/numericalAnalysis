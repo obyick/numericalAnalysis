{
  "nbformat": 4,
  "nbformat_minor": 0,
  "metadata": {
    "colab": {
      "provenance": []
    },
    "kernelspec": {
      "name": "python3",
      "display_name": "Python 3"
    },
    "language_info": {
      "name": "python"
    }
  },
  "cells": [
    {
      "cell_type": "markdown",
      "source": [
        "# **Libraries**"
      ],
      "metadata": {
        "id": "ON9tyheogTHb"
      }
    },
    {
      "cell_type": "code",
      "execution_count": 1,
      "metadata": {
        "id": "fxF3_jLSb_9_"
      },
      "outputs": [],
      "source": [
        "import numpy as np # numerical python\n",
        "import matplotlib.pyplot as plt # collection of functions that make matplotlib work"
      ]
    },
    {
      "cell_type": "markdown",
      "source": [
        "# **Variables**\n",
        "\n",
        "*   *The `a` variable defines the start point, while `b` defines the end.*\n",
        "*   *`erro` variable is the minimal value acceptable*\n",
        "*   *`itMax` is the iteration cap*\n",
        "\n"
      ],
      "metadata": {
        "id": "l0bX0PEgkNvR"
      }
    },
    {
      "cell_type": "code",
      "source": [
        "a = 0.010; b = 0.015 # initial values to the first function\n",
        "\n",
        "erro = 10**-5 # minimal error\n",
        "\n",
        "itMax = 100 # maxima iteration"
      ],
      "metadata": {
        "id": "3rl8Z4f0kRqW"
      },
      "execution_count": 2,
      "outputs": []
    },
    {
      "cell_type": "markdown",
      "source": [
        "# **Main function and first derivative**\n",
        "\n",
        "*   *`f(x)` returns the first main equation*\n",
        "*   *`df(x)` returns derivative of the first main equation*\n",
        "\n",
        "\n",
        "\n"
      ],
      "metadata": {
        "id": "Wr4dgv01garm"
      }
    },
    {
      "cell_type": "code",
      "source": [
        "# main function\n",
        "def f(x):\n",
        "  return 1 - ((1 + x)**-48) - 35.48*x\n",
        "\n",
        "# derived main function\n",
        "def df(x):\n",
        "  return (48/((1+x)**49)) - 35.48"
      ],
      "metadata": {
        "id": "LPetiEUUtPwz"
      },
      "execution_count": 3,
      "outputs": []
    },
    {
      "cell_type": "markdown",
      "source": [
        "# **Bolzano theorem**\n",
        "\n",
        "*   *Checks if there's root between `a` and `b`*"
      ],
      "metadata": {
        "id": "n0bh__USei1f"
      }
    },
    {
      "cell_type": "code",
      "source": [
        "if (f(a) * f(b) < 0):\n",
        "  print(\"There's a root in the interval [a, b].\")\n",
        "elif (f(a) * f(b) == 0):\n",
        "  print(\"Both [a, b] are roots.\")\n",
        "else:\n",
        "  print(\"There isn't root in the interval [a, b].\")"
      ],
      "metadata": {
        "colab": {
          "base_uri": "https://localhost:8080/"
        },
        "id": "xHxw27DAevKR",
        "outputId": "735660ab-239b-40fd-ea2d-e231e29c82fb"
      },
      "execution_count": 4,
      "outputs": [
        {
          "output_type": "stream",
          "name": "stdout",
          "text": [
            "There's a root in the interval [a, b].\n"
          ]
        }
      ]
    },
    {
      "cell_type": "markdown",
      "source": [
        "# **Bisection**"
      ],
      "metadata": {
        "id": "-aVW7iy7N3Sb"
      }
    },
    {
      "cell_type": "code",
      "source": [
        "def bisection(a, b, erro, itMax):\n",
        "  it = 0\n",
        "  x = a\n",
        "  erro = 10**-5\n",
        "  er = 1\n",
        "  while(er >= erro and it < itMax):\n",
        "    xold = x\n",
        "    x = (a+b)/2\n",
        "    er = np.abs((x-xold)/x)\n",
        "    if(f(a)*f(x) < 0):\n",
        "      b = x\n",
        "    else:\n",
        "      a = x\n",
        "    it += 1\n",
        "  return(x, er, it)\n",
        "\n",
        "resbf = bisection(a, b, erro, itMax)\n",
        "print(f\"The algorithm, by the Bisection method in f(x), found the root approximately at [{round(resbf[0], 5)}], with [{resbf[2]}] iterations.\")"
      ],
      "metadata": {
        "colab": {
          "base_uri": "https://localhost:8080/"
        },
        "id": "N9CCzc-tOHxK",
        "outputId": "6a8500f1-c81c-461e-8e95-7b56ee527335"
      },
      "execution_count": 5,
      "outputs": [
        {
          "output_type": "stream",
          "name": "stdout",
          "text": [
            "The algorithm, by the Bisection method in f(x), found the root approximately at [0.01308], with [16] iterations.\n"
          ]
        }
      ]
    },
    {
      "cell_type": "markdown",
      "source": [
        "# **False Position**"
      ],
      "metadata": {
        "id": "QDEn_4-ogwsA"
      }
    },
    {
      "cell_type": "code",
      "source": [
        "def falsePosition(a, b, erro, itMax):\n",
        "  it = 0\n",
        "  x = a\n",
        "  er = 1\n",
        "  while(er >= erro and it < itMax):\n",
        "    xold = x\n",
        "    x = a-f(a)*(b-a)/(f(b)-f(a))\n",
        "    er = np.abs((x-xold)/x)\n",
        "    if(f(a)*f(x) < 0):\n",
        "      b = x\n",
        "    else:\n",
        "      a = x\n",
        "    it += 1\n",
        "  return(x, er, it)\n",
        "\n",
        "resff = falsePosition(a, b, erro, itMax)\n",
        "print(f\"The algorithm, by the False position method in f(x), found the root approximately at [{round(resff[0], 5)}], with [{resff[2]}] iterations.\")"
      ],
      "metadata": {
        "id": "_kikRNhWeLQi",
        "colab": {
          "base_uri": "https://localhost:8080/"
        },
        "outputId": "688b7e93-d083-4ef7-eb99-116a5bc546fe"
      },
      "execution_count": 6,
      "outputs": [
        {
          "output_type": "stream",
          "name": "stdout",
          "text": [
            "The algorithm, by the False position method in f(x), found the root approximately at [0.01308], with [6] iterations.\n"
          ]
        }
      ]
    },
    {
      "cell_type": "markdown",
      "source": [
        "# **Newton Ralphson**"
      ],
      "metadata": {
        "id": "BMJdj22oTp0J"
      }
    },
    {
      "cell_type": "code",
      "source": [
        "def newtonRalphson(a, erro, itMax):\n",
        "  it = 0\n",
        "  x = a\n",
        "  er = 1\n",
        "  while(er >= erro and it < itMax):\n",
        "    xold = x\n",
        "    x = x-f(x)/df(x)\n",
        "    er = np.abs((x-xold)/x)\n",
        "    it += 1\n",
        "  return(x, er, it)\n",
        "\n",
        "resnf = newtonRalphson(a, erro, itMax)\n",
        "print(f\"The algorithm, by the Newton Ralphson method in f(x), found the root approximately at [{round(resnf[0], 5)}], with [{resnf[2]}] iterations.\")"
      ],
      "metadata": {
        "colab": {
          "base_uri": "https://localhost:8080/"
        },
        "id": "dWBdbZRvTwMx",
        "outputId": "ecf908e6-8089-48fc-fcca-f35f62443554"
      },
      "execution_count": 7,
      "outputs": [
        {
          "output_type": "stream",
          "name": "stdout",
          "text": [
            "The algorithm, by the Newton Ralphson method in f(x), found the root approximately at [0.01308], with [5] iterations.\n"
          ]
        }
      ]
    },
    {
      "cell_type": "markdown",
      "source": [
        "# **Secant**"
      ],
      "metadata": {
        "id": "Sr8bHHmv1Qpy"
      }
    },
    {
      "cell_type": "code",
      "source": [
        "def secant(a, b, erro, itMax):\n",
        "  it = 0\n",
        "  er = 1\n",
        "  xa = a\n",
        "  x = b\n",
        "  while(er >= erro and it < itMax):\n",
        "    xb = xa\n",
        "    xa = x\n",
        "    x = xa-f(xa)*(xb-xa)/(f(xb)-f(xa))\n",
        "    er = np.abs((x-xa)/x)\n",
        "    it += 1\n",
        "  return(x, er, it)\n",
        "\n",
        "ressf = secant(a, b, erro, itMax)\n",
        "print(f\"The algorithm, by the Secant method in f(x), found the root approximately at [{round(ressf[0], 5)}], with [{ressf[2]}] iterations.\")"
      ],
      "metadata": {
        "id": "BqgP5VzRjhYO",
        "colab": {
          "base_uri": "https://localhost:8080/"
        },
        "outputId": "4b86e7af-63de-4742-dd62-76e8e67dd208"
      },
      "execution_count": 8,
      "outputs": [
        {
          "output_type": "stream",
          "name": "stdout",
          "text": [
            "The algorithm, by the Secant method in f(x), found the root approximately at [0.01308], with [5] iterations.\n"
          ]
        }
      ]
    },
    {
      "cell_type": "markdown",
      "source": [
        "# **Graphic**\n",
        "\n",
        "*   *Plots `f(x)` graph*"
      ],
      "metadata": {
        "id": "gWXwmWVohaC-"
      }
    },
    {
      "cell_type": "code",
      "source": [
        "j = np.linspace(a, b, 1000) # create a numerical sequency betwen [a] and [b]\n",
        "\n",
        "plt.plot(j, f(j), 'r') # plots infinite points function\n",
        "\n",
        "# plots grid lines and a line in [y] equal 0\n",
        "plt.grid()\n",
        "plt.axhline()\n",
        "\n",
        "# names axis label\n",
        "plt.xlabel('x')\n",
        "plt.ylabel('f(x)')\n",
        "\n",
        "plt.show() # shows everything in the same graph"
      ],
      "metadata": {
        "colab": {
          "base_uri": "https://localhost:8080/",
          "height": 279
        },
        "id": "01iYPRRd3hRj",
        "outputId": "32b2747f-bc13-4a49-bae3-a5eb4a84be2b"
      },
      "execution_count": 9,
      "outputs": [
        {
          "output_type": "display_data",
          "data": {
            "text/plain": [
              "<Figure size 432x288 with 1 Axes>"
            ],
            "image/png": "[encoded data removed]"
          },
          "metadata": {
            "needs_background": "light"
          }
        }
      ]
    }
  ]
}