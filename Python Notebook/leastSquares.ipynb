{
  "nbformat": 4,
  "nbformat_minor": 0,
  "metadata": {
    "colab": {
      "provenance": [],
      "collapsed_sections": [
        "0tiNtFBWQ8vX",
        "hvNHaKquREDX",
        "tW1NKYDbRli-"
      ]
    },
    "kernelspec": {
      "name": "python3",
      "display_name": "Python 3"
    }
  },
  "cells": [
    {
      "cell_type": "markdown",
      "source": [
        "# **Libraries**"
      ],
      "metadata": {
        "id": "0tiNtFBWQ8vX"
      }
    },
    {
      "cell_type": "code",
      "source": [
        "import numpy as np # numerical python\n",
        "import matplotlib.pyplot as plt # collection of functions that make matplotlib work"
      ],
      "metadata": {
        "id": "crQbvl10Q9L_"
      },
      "execution_count": 1,
      "outputs": []
    },
    {
      "cell_type": "markdown",
      "source": [
        "# **Arrays and Variables**"
      ],
      "metadata": {
        "id": "hvNHaKquREDX"
      }
    },
    {
      "cell_type": "code",
      "source": [
        "# array\n",
        "x = np.array([[0.], [1.5], [3.], [3.5]])\n",
        "y = np.array([[2.0], [4.2], [2.5], [0.2]])\n",
        "\n",
        "n = 2 # degree of the polynomial\n",
        "\n",
        "# endline\n",
        "ndln = '\\n-------------------------------------------------------------------\\n'"
      ],
      "metadata": {
        "id": "0JrvW4ImRJ7-"
      },
      "execution_count": 2,
      "outputs": []
    },
    {
      "cell_type": "markdown",
      "source": [
        "# **Polynomial Regression**\n",
        "\n",
        "*   *Form of Linear regression known as a special case of Multiple linear regression which estimates the relationship as an nth degree polynomial.*"
      ],
      "metadata": {
        "id": "6MzRmBCmTbFB"
      }
    },
    {
      "cell_type": "code",
      "metadata": {
        "id": "m0f-_EjSP2q6",
        "colab": {
          "base_uri": "https://localhost:8080/"
        },
        "outputId": "fd37ac19-925d-4b17-f4b0-3456c2ce30c8"
      },
      "source": [
        "# impossible system coefficients matrix\n",
        "X = x**0\n",
        "for i in range(1, n + 1):\n",
        "  X = np.concatenate((X, x**i), 1)\n",
        "\n",
        "# assembling the possible and determined system\n",
        "XtX = (X.T)@X\n",
        "XtY = (X.T)@y\n",
        "\n",
        "ac = np.linalg.solve(XtX, XtY) # solve the system and determine values of a0, a1 and a2\n",
        "\n",
        "VE = X@ac - y # find error vector\n",
        "\n",
        "# calc quadratic error (1th and 2th)\n",
        "EQ = np.transpose(VE)@VE\n",
        "EQ2 = np.sum(VE**2)\n",
        "\n",
        "# results\n",
        "print(f'Impossible system coefficients matrix:\\n{X}',\n",
        "      f'Assembling the possible and determined system of x:\\n{XtX}',\n",
        "      f'Assembling the possible and determined system of y:\\n{XtY}',\n",
        "      f'a values:\\n{ac}',\n",
        "      f'Error vector:\\n{VE}',\n",
        "      f'Quadratic error (1th way):\\n{EQ}',\n",
        "      f'Quadratic error (2th way):\\n[{EQ2}]', sep = ndln)"
      ],
      "execution_count": 3,
      "outputs": [
        {
          "output_type": "stream",
          "name": "stdout",
          "text": [
            "Impossible system coefficients matrix:\n",
            "[[ 1.    0.    0.  ]\n",
            " [ 1.    1.5   2.25]\n",
            " [ 1.    3.    9.  ]\n",
            " [ 1.    3.5  12.25]]\n",
            "-------------------------------------------------------------------\n",
            "Assembling the possible and determined system of x:\n",
            "[[  4.      8.     23.5  ]\n",
            " [  8.     23.5    73.25 ]\n",
            " [ 23.5    73.25  236.125]]\n",
            "-------------------------------------------------------------------\n",
            "Assembling the possible and determined system of y:\n",
            "[[ 8.9]\n",
            " [14.5]\n",
            " [34.4]]\n",
            "-------------------------------------------------------------------\n",
            "a values:\n",
            "[[ 1.95272727]\n",
            " [ 3.14484848]\n",
            " [-1.02424242]]\n",
            "-------------------------------------------------------------------\n",
            "Error vector:\n",
            "[[-0.04727273]\n",
            " [ 0.16545455]\n",
            " [-0.33090909]\n",
            " [ 0.21272727]]\n",
            "-------------------------------------------------------------------\n",
            "Quadratic error (1th way):\n",
            "[[0.18436364]]\n",
            "-------------------------------------------------------------------\n",
            "Quadratic error (2th way):\n",
            "[0.18436363636363745]\n"
          ]
        }
      ]
    },
    {
      "cell_type": "markdown",
      "source": [
        "# **Graphic**"
      ],
      "metadata": {
        "id": "tW1NKYDbRli-"
      }
    },
    {
      "cell_type": "code",
      "source": [
        "# graph information\n",
        "plt.title(f'Degree {n} Polynomial Function')\n",
        "plt.xlabel('x')\n",
        "plt.ylabel('g(x)')\n",
        "plt.grid()\n",
        "\n",
        "plt.plot(x, y, 'o') # points plot\n",
        "\n",
        "# g(x) plot\n",
        "xg = np.linspace((np.min(x) - 0.2), (np.max(x) + 0.2), 100)\n",
        "yg = 0\n",
        "for i in range(n + 1):\n",
        "  yg = yg + ((ac[i,0])*(xg**i))\n",
        "plt.plot(xg, yg)\n",
        "\n",
        "plt.show() # show everything in the same graph"
      ],
      "metadata": {
        "colab": {
          "base_uri": "https://localhost:8080/",
          "height": 295
        },
        "id": "vM5iehRxRqpl",
        "outputId": "1cc3ea29-8092-453c-b063-a610d1e8948d"
      },
      "execution_count": 4,
      "outputs": [
        {
          "output_type": "display_data",
          "data": {
            "text/plain": [
              "<Figure size 432x288 with 1 Axes>"
            ],
            "image/png": "[encoded data removed]"
          },
          "metadata": {
            "needs_background": "light"
          }
        }
      ]
    }
  ]
}