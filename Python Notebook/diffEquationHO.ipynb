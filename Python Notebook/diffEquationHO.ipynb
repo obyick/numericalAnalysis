{
  "nbformat": 4,
  "nbformat_minor": 0,
  "metadata": {
    "colab": {
      "provenance": []
    },
    "kernelspec": {
      "name": "python3",
      "display_name": "Python 3"
    },
    "language_info": {
      "name": "python"
    }
  },
  "cells": [
    {
      "cell_type": "markdown",
      "source": [
        "# **Libraries**"
      ],
      "metadata": {
        "id": "0tiNtFBWQ8vX"
      }
    },
    {
      "cell_type": "code",
      "source": [
        "import numpy as np # numerical python\n",
        "import matplotlib.pyplot as plt # collection of functions that make matplotlib work"
      ],
      "metadata": {
        "id": "crQbvl10Q9L_"
      },
      "execution_count": 1,
      "outputs": []
    },
    {
      "cell_type": "markdown",
      "source": [
        "# **Functions and Variables**"
      ],
      "metadata": {
        "id": "hvNHaKquREDX"
      }
    },
    {
      "cell_type": "code",
      "source": [
        "# functions\n",
        "def gy(x, y, z):\n",
        "  return z\n",
        "\n",
        "def gz(x, y, z):\n",
        "  m = 60\n",
        "  c = 5\n",
        "  k = 20\n",
        "  return (-(c * z) - (k * y)) / m\n",
        "\n",
        "# points\n",
        "a = 0; b = 10; h = 0.5\n",
        "X = a; Y = 1.2; Z = a\n",
        "\n",
        "# endline\n",
        "ndln = '\\n-------------------------------------------------------------------\\n'"
      ],
      "metadata": {
        "id": "0JrvW4ImRJ7-"
      },
      "execution_count": 2,
      "outputs": []
    },
    {
      "cell_type": "markdown",
      "source": [
        "# **Euler higherOrder**\n",
        "\n",
        "*   *Uses the tangent to the curve at the initial point to check for the next estimate.*"
      ],
      "metadata": {
        "id": "qdHiTm7tl58j"
      }
    },
    {
      "cell_type": "code",
      "source": [
        "# auxiliary array\n",
        "n = int(abs((b - a) / h))\n",
        "x = np.zeros(n + 1)\n",
        "y = np.zeros(n + 1)\n",
        "z = np.zeros(n + 1)\n",
        "\n",
        "# initial values\n",
        "x[0] = X\n",
        "y[0] = Y\n",
        "z[0] = Z\n",
        "\n",
        "# Euler higherOrder\n",
        "for i in range(n):\n",
        "  ky = gy(x[i], y[i], z[i])\n",
        "  kz = gz(x[i], y[i], z[i])\n",
        "  x[i + 1] = x[i] + h\n",
        "  y[i + 1] = y[i] + (ky * h)\n",
        "  z[i + 1] = z[i] + (kz * h)\n",
        "\n",
        "# output\n",
        "for i in range(len(x)):\n",
        "  print(f'{i}th Interation:\\nx = {round(x[i])}, y = {round(y[i], 3)}, z = {round(z[i], 3)}',\n",
        "        end = ndln)\n",
        "\n",
        "# graphic\n",
        "plt.plot(x, y, 'r')\n",
        "plt.plot(x, z, 'g')\n",
        "plt.xlabel('x')\n",
        "plt.ylabel('g(x)')\n",
        "plt.grid()\n",
        "plt.show()"
      ],
      "metadata": {
        "colab": {
          "base_uri": "https://localhost:8080/",
          "height": 1000
        },
        "id": "p6-dLsVWv2_1",
        "outputId": "06b4171e-f95c-41e8-9121-9fa29cb44bc1"
      },
      "execution_count": 3,
      "outputs": [
        {
          "output_type": "stream",
          "name": "stdout",
          "text": [
            "0th Interation:\n",
            "x = 0, y = 1.2, z = 0.0\n",
            "-------------------------------------------------------------------\n",
            "1th Interation:\n",
            "x = 0, y = 1.2, z = -0.2\n",
            "-------------------------------------------------------------------\n",
            "2th Interation:\n",
            "x = 1, y = 1.1, z = -0.392\n",
            "-------------------------------------------------------------------\n",
            "3th Interation:\n",
            "x = 2, y = 0.904, z = -0.559\n",
            "-------------------------------------------------------------------\n",
            "4th Interation:\n",
            "x = 2, y = 0.625, z = -0.686\n",
            "-------------------------------------------------------------------\n",
            "5th Interation:\n",
            "x = 2, y = 0.282, z = -0.762\n",
            "-------------------------------------------------------------------\n",
            "6th Interation:\n",
            "x = 3, y = -0.099, z = -0.777\n",
            "-------------------------------------------------------------------\n",
            "7th Interation:\n",
            "x = 4, y = -0.487, z = -0.728\n",
            "-------------------------------------------------------------------\n",
            "8th Interation:\n",
            "x = 4, y = -0.851, z = -0.616\n",
            "-------------------------------------------------------------------\n",
            "9th Interation:\n",
            "x = 4, y = -1.16, z = -0.449\n",
            "-------------------------------------------------------------------\n",
            "10th Interation:\n",
            "x = 5, y = -1.384, z = -0.237\n",
            "-------------------------------------------------------------------\n",
            "11th Interation:\n",
            "x = 6, y = -1.503, z = 0.004\n",
            "-------------------------------------------------------------------\n",
            "12th Interation:\n",
            "x = 6, y = -1.501, z = 0.254\n",
            "-------------------------------------------------------------------\n",
            "13th Interation:\n",
            "x = 6, y = -1.374, z = 0.494\n",
            "-------------------------------------------------------------------\n",
            "14th Interation:\n",
            "x = 7, y = -1.127, z = 0.702\n",
            "-------------------------------------------------------------------\n",
            "15th Interation:\n",
            "x = 8, y = -0.776, z = 0.86\n",
            "-------------------------------------------------------------------\n",
            "16th Interation:\n",
            "x = 8, y = -0.346, z = 0.954\n",
            "-------------------------------------------------------------------\n",
            "17th Interation:\n",
            "x = 8, y = 0.131, z = 0.972\n",
            "-------------------------------------------------------------------\n",
            "18th Interation:\n",
            "x = 9, y = 0.617, z = 0.909\n",
            "-------------------------------------------------------------------\n",
            "19th Interation:\n",
            "x = 10, y = 1.072, z = 0.769\n",
            "-------------------------------------------------------------------\n",
            "20th Interation:\n",
            "x = 10, y = 1.456, z = 0.558\n",
            "-------------------------------------------------------------------\n"
          ]
        },
        {
          "output_type": "display_data",
          "data": {
            "text/plain": [
              "<Figure size 432x288 with 1 Axes>"
            ],
            "image/png": "[encoded data removed]"
          },
          "metadata": {
            "needs_background": "light"
          }
        }
      ]
    },
    {
      "cell_type": "markdown",
      "source": [
        "# **Heun higherOrder**\n",
        "\n",
        "*   *Two tangents on both sides of the curve: One tangent overestimates while the other underestimates.*"
      ],
      "metadata": {
        "id": "Mdw6kBQ_keC5"
      }
    },
    {
      "cell_type": "code",
      "source": [
        "# auxiliary array\n",
        "n = int(abs((b - a) / h))\n",
        "x = np.zeros(n + 1)\n",
        "y = np.zeros(n + 1)\n",
        "z = np.zeros(n + 1)\n",
        "\n",
        "# initial values\n",
        "x[0] = X\n",
        "y[0] = Y\n",
        "z[0] = Z\n",
        "\n",
        "# Heun higherOrder\n",
        "for i in range(n):\n",
        "  k1y = gy(x[i], y[i], z[i])\n",
        "  k1z = gz(x[i], y[i], z[i])\n",
        "  k2y = gy(x[i] + h, y[i] + (k1y * h), z[i] + (k1z * h))\n",
        "  k2z = gz(x[i] + h, y[i] + (k1y * h), z[i] + (k1z * h))\n",
        "  phy = h * (k1y + k2y)\n",
        "  phz = h * (k1z + k2z)\n",
        "  x[i + 1] = x[i] + h\n",
        "  y[i + 1] = y[i] + (h * phy)\n",
        "  z[i + 1] = z[i] + (h * phz)\n",
        "\n",
        "# output\n",
        "for i in range(len(x)):\n",
        "  print(f'{i}th Interation:\\nx = {round(x[i])}, y = {round(y[i], 3)}, z = {round(z[i], 3)}',\n",
        "        end = ndln)\n",
        "\n",
        "# graphic\n",
        "plt.plot(x, y, 'r')\n",
        "plt.plot(x, z, 'g')\n",
        "plt.xlabel('x')\n",
        "plt.ylabel('g(x)')\n",
        "plt.grid()\n",
        "plt.show()"
      ],
      "metadata": {
        "colab": {
          "base_uri": "https://localhost:8080/",
          "height": 1000
        },
        "id": "Mgp2dabgv4KE",
        "outputId": "5d13df48-ecbb-4e98-ea2f-2f33a7806604"
      },
      "execution_count": 4,
      "outputs": [
        {
          "output_type": "stream",
          "name": "stdout",
          "text": [
            "0th Interation:\n",
            "x = 0, y = 1.2, z = 0.0\n",
            "-------------------------------------------------------------------\n",
            "1th Interation:\n",
            "x = 0, y = 1.15, z = -0.196\n",
            "-------------------------------------------------------------------\n",
            "2th Interation:\n",
            "x = 1, y = 1.006, z = -0.367\n",
            "-------------------------------------------------------------------\n",
            "3th Interation:\n",
            "x = 2, y = 0.784, z = -0.501\n",
            "-------------------------------------------------------------------\n",
            "4th Interation:\n",
            "x = 2, y = 0.506, z = -0.588\n",
            "-------------------------------------------------------------------\n",
            "5th Interation:\n",
            "x = 2, y = 0.197, z = -0.622\n",
            "-------------------------------------------------------------------\n",
            "6th Interation:\n",
            "x = 3, y = -0.115, z = -0.603\n",
            "-------------------------------------------------------------------\n",
            "7th Interation:\n",
            "x = 4, y = -0.406, z = -0.534\n",
            "-------------------------------------------------------------------\n",
            "8th Interation:\n",
            "x = 4, y = -0.651, z = -0.424\n",
            "-------------------------------------------------------------------\n",
            "9th Interation:\n",
            "x = 4, y = -0.831, z = -0.283\n",
            "-------------------------------------------------------------------\n",
            "10th Interation:\n",
            "x = 5, y = -0.935, z = -0.124\n",
            "-------------------------------------------------------------------\n",
            "11th Interation:\n",
            "x = 6, y = -0.957, z = 0.039\n",
            "-------------------------------------------------------------------\n",
            "12th Interation:\n",
            "x = 6, y = -0.898, z = 0.192\n",
            "-------------------------------------------------------------------\n",
            "13th Interation:\n",
            "x = 6, y = -0.767, z = 0.322\n",
            "-------------------------------------------------------------------\n",
            "14th Interation:\n",
            "x = 7, y = -0.577, z = 0.421\n",
            "-------------------------------------------------------------------\n",
            "15th Interation:\n",
            "x = 8, y = -0.347, z = 0.48\n",
            "-------------------------------------------------------------------\n",
            "16th Interation:\n",
            "x = 8, y = -0.097, z = 0.497\n",
            "-------------------------------------------------------------------\n",
            "17th Interation:\n",
            "x = 8, y = 0.15, z = 0.472\n",
            "-------------------------------------------------------------------\n",
            "18th Interation:\n",
            "x = 9, y = 0.375, z = 0.409\n",
            "-------------------------------------------------------------------\n",
            "19th Interation:\n",
            "x = 10, y = 0.56, z = 0.314\n",
            "-------------------------------------------------------------------\n",
            "20th Interation:\n",
            "x = 10, y = 0.69, z = 0.196\n",
            "-------------------------------------------------------------------\n"
          ]
        },
        {
          "output_type": "display_data",
          "data": {
            "text/plain": [
              "<Figure size 432x288 with 1 Axes>"
            ],
            "image/png": "[encoded data removed]"
          },
          "metadata": {
            "needs_background": "light"
          }
        }
      ]
    },
    {
      "cell_type": "markdown",
      "source": [
        "# **Midpoint higherOrder**\n",
        "\n",
        "*   *Note that the midpoint method can refer to Heun's method*"
      ],
      "metadata": {
        "id": "3pPoKjnCjEXZ"
      }
    },
    {
      "cell_type": "code",
      "source": [
        "# auxiliary array\n",
        "n = int(abs((b - a) / h))\n",
        "x = np.zeros(n + 1)\n",
        "y = np.zeros(n + 1)\n",
        "z = np.zeros(n + 1)\n",
        "\n",
        "# initial values\n",
        "x[0] = X\n",
        "y[0] = Y\n",
        "z[0] = Z\n",
        "\n",
        "# Midpoint higherOrder\n",
        "for i in range(n):\n",
        "  k1y = gy(x[i], y[i], z[i])\n",
        "  k1z = gz(x[i], y[i], z[i])\n",
        "  k2y = gy(x[i] + (h / 2), y[i] + (k1y * (h / 2)), z[i] + (k1z * (h / 2)))\n",
        "  k2z = gz(x[i] + (h / 2), y[i] + (k1y * (h / 2)), z[i] + (k1z * (h / 2)))\n",
        "  phy = k2y\n",
        "  phz = k2z\n",
        "  x[i + 1] = x[i] + h\n",
        "  y[i + 1] = y[i] + (h * phy)\n",
        "  z[i + 1] = z[i] + (h * phz)\n",
        "\n",
        "# output\n",
        "for i in range(len(x)):\n",
        "  print(f'{i}th Interation:\\nx = {round(x[i])}, y = {round(y[i], 3)}, z = {round(z[i], 3)}',\n",
        "        end = ndln)\n",
        "\n",
        "# graphic\n",
        "plt.plot(x, y, 'r')\n",
        "plt.plot(x, z, 'g')\n",
        "plt.xlabel('x')\n",
        "plt.ylabel('g(x)')\n",
        "plt.grid()\n",
        "plt.show()"
      ],
      "metadata": {
        "colab": {
          "base_uri": "https://localhost:8080/",
          "height": 1000
        },
        "id": "xzdeb8GRv5Ot",
        "outputId": "4f3d02a8-7c54-4e6a-f38c-5f7a548ee776"
      },
      "execution_count": 5,
      "outputs": [
        {
          "output_type": "stream",
          "name": "stdout",
          "text": [
            "0th Interation:\n",
            "x = 0, y = 1.2, z = 0.0\n",
            "-------------------------------------------------------------------\n",
            "1th Interation:\n",
            "x = 0, y = 1.15, z = -0.196\n",
            "-------------------------------------------------------------------\n",
            "2th Interation:\n",
            "x = 1, y = 1.006, z = -0.367\n",
            "-------------------------------------------------------------------\n",
            "3th Interation:\n",
            "x = 2, y = 0.784, z = -0.501\n",
            "-------------------------------------------------------------------\n",
            "4th Interation:\n",
            "x = 2, y = 0.506, z = -0.588\n",
            "-------------------------------------------------------------------\n",
            "5th Interation:\n",
            "x = 2, y = 0.197, z = -0.622\n",
            "-------------------------------------------------------------------\n",
            "6th Interation:\n",
            "x = 3, y = -0.115, z = -0.603\n",
            "-------------------------------------------------------------------\n",
            "7th Interation:\n",
            "x = 4, y = -0.406, z = -0.534\n",
            "-------------------------------------------------------------------\n",
            "8th Interation:\n",
            "x = 4, y = -0.651, z = -0.424\n",
            "-------------------------------------------------------------------\n",
            "9th Interation:\n",
            "x = 4, y = -0.831, z = -0.283\n",
            "-------------------------------------------------------------------\n",
            "10th Interation:\n",
            "x = 5, y = -0.935, z = -0.124\n",
            "-------------------------------------------------------------------\n",
            "11th Interation:\n",
            "x = 6, y = -0.957, z = 0.039\n",
            "-------------------------------------------------------------------\n",
            "12th Interation:\n",
            "x = 6, y = -0.898, z = 0.192\n",
            "-------------------------------------------------------------------\n",
            "13th Interation:\n",
            "x = 6, y = -0.767, z = 0.322\n",
            "-------------------------------------------------------------------\n",
            "14th Interation:\n",
            "x = 7, y = -0.577, z = 0.421\n",
            "-------------------------------------------------------------------\n",
            "15th Interation:\n",
            "x = 8, y = -0.347, z = 0.48\n",
            "-------------------------------------------------------------------\n",
            "16th Interation:\n",
            "x = 8, y = -0.097, z = 0.497\n",
            "-------------------------------------------------------------------\n",
            "17th Interation:\n",
            "x = 8, y = 0.15, z = 0.472\n",
            "-------------------------------------------------------------------\n",
            "18th Interation:\n",
            "x = 9, y = 0.375, z = 0.409\n",
            "-------------------------------------------------------------------\n",
            "19th Interation:\n",
            "x = 10, y = 0.56, z = 0.314\n",
            "-------------------------------------------------------------------\n",
            "20th Interation:\n",
            "x = 10, y = 0.69, z = 0.196\n",
            "-------------------------------------------------------------------\n"
          ]
        },
        {
          "output_type": "display_data",
          "data": {
            "text/plain": [
              "<Figure size 432x288 with 1 Axes>"
            ],
            "image/png": "[encoded data removed]"
          },
          "metadata": {
            "needs_background": "light"
          }
        }
      ]
    },
    {
      "cell_type": "markdown",
      "source": [
        "# **Runge–Kutta higherOrder**\n",
        "\n",
        "*   *The more slopes calculated, the better the accuracy, with each slope associated with a certain compensation coefficient.*"
      ],
      "metadata": {
        "id": "uB67O-VtfdOO"
      }
    },
    {
      "cell_type": "code",
      "source": [
        "# auxiliary array\n",
        "n = int(abs((b - a) / h))\n",
        "x = np.zeros(n + 1)\n",
        "y = np.zeros(n + 1)\n",
        "z = np.zeros(n + 1)\n",
        "\n",
        "# initial values\n",
        "x[0] = X\n",
        "y[0] = Y\n",
        "z[0] = Z\n",
        "\n",
        "# RK4 higherOrder\n",
        "for i in range(n):\n",
        "  k1y = gy(x[i], y[i], z[i])\n",
        "  k1z = gz(x[i], y[i], z[i])\n",
        "  k2y = gy(x[i] + (h / 2), y[i] + (k1y * (h / 2)), z[i] + (k1z * (h / 2)))\n",
        "  k2z = gz(x[i] + (h / 2), y[i] + (k1y * (h / 2)), z[i] + (k1z * (h / 2)))\n",
        "  k3y = gy(x[i] + (h / 2), y[i] + (k2y * (h / 2)), z[i] + (k2z * (h / 2)))\n",
        "  k3z = gz(x[i] + (h / 2), y[i] + (k2y * (h / 2)), z[i] + (k2z * (h / 2)))\n",
        "  k4y = gy(x[i] + h, y[i] + (k3y * h), z[i] + (k3z * h))\n",
        "  k4z = gz(x[i] + h, y[i] + (k3y * h), z[i] + (k3z * h))\n",
        "  phy = (k1y + (2 * k2y) + (2 * k3y) + k4y) / 6\n",
        "  phz = (k1z + (2 * k2z) + (2 * k3z) + k4z) / 6\n",
        "  x[i + 1] = x[i] + (h)\n",
        "  y[i + 1] = y[i] + (h * phy)\n",
        "  z[i + 1] = z[i] + (h * phz)\n",
        "\n",
        "# output\n",
        "for i in range(len(x)):\n",
        "  print(f'{i}th Interation:\\nx = {round(x[i])}, y = {round(y[i], 3)}, z = {round(z[i], 3)}',\n",
        "        end = ndln)\n",
        "\n",
        "# graphic\n",
        "plt.plot(x, y, 'r')\n",
        "plt.plot(x, z, 'g')\n",
        "plt.xlabel('x')\n",
        "plt.ylabel('g(x)')\n",
        "plt.grid()\n",
        "plt.show()"
      ],
      "metadata": {
        "colab": {
          "base_uri": "https://localhost:8080/",
          "height": 1000
        },
        "id": "GuMAEhwnpncl",
        "outputId": "a5f0dbd0-4d67-460c-a9bc-72b33d66c9f8"
      },
      "execution_count": 6,
      "outputs": [
        {
          "output_type": "stream",
          "name": "stdout",
          "text": [
            "0th Interation:\n",
            "x = 0, y = 1.2, z = 0.0\n",
            "-------------------------------------------------------------------\n",
            "1th Interation:\n",
            "x = 0, y = 1.151, z = -0.193\n",
            "-------------------------------------------------------------------\n",
            "2th Interation:\n",
            "x = 1, y = 1.011, z = -0.363\n",
            "-------------------------------------------------------------------\n",
            "3th Interation:\n",
            "x = 2, y = 0.794, z = -0.496\n",
            "-------------------------------------------------------------------\n",
            "4th Interation:\n",
            "x = 2, y = 0.522, z = -0.584\n",
            "-------------------------------------------------------------------\n",
            "5th Interation:\n",
            "x = 2, y = 0.219, z = -0.621\n",
            "-------------------------------------------------------------------\n",
            "6th Interation:\n",
            "x = 3, y = -0.09, z = -0.606\n",
            "-------------------------------------------------------------------\n",
            "7th Interation:\n",
            "x = 4, y = -0.378, z = -0.542\n",
            "-------------------------------------------------------------------\n",
            "8th Interation:\n",
            "x = 4, y = -0.625, z = -0.437\n",
            "-------------------------------------------------------------------\n",
            "9th Interation:\n",
            "x = 4, y = -0.81, z = -0.301\n",
            "-------------------------------------------------------------------\n",
            "10th Interation:\n",
            "x = 5, y = -0.923, z = -0.146\n",
            "-------------------------------------------------------------------\n",
            "11th Interation:\n",
            "x = 6, y = -0.956, z = 0.014\n",
            "-------------------------------------------------------------------\n",
            "12th Interation:\n",
            "x = 6, y = -0.91, z = 0.167\n",
            "-------------------------------------------------------------------\n",
            "13th Interation:\n",
            "x = 6, y = -0.792, z = 0.3\n",
            "-------------------------------------------------------------------\n",
            "14th Interation:\n",
            "x = 7, y = -0.615, z = 0.403\n",
            "-------------------------------------------------------------------\n",
            "15th Interation:\n",
            "x = 8, y = -0.396, z = 0.469\n",
            "-------------------------------------------------------------------\n",
            "16th Interation:\n",
            "x = 8, y = -0.153, z = 0.495\n",
            "-------------------------------------------------------------------\n",
            "17th Interation:\n",
            "x = 8, y = 0.093, z = 0.479\n",
            "-------------------------------------------------------------------\n",
            "18th Interation:\n",
            "x = 9, y = 0.32, z = 0.426\n",
            "-------------------------------------------------------------------\n",
            "19th Interation:\n",
            "x = 10, y = 0.513, z = 0.34\n",
            "-------------------------------------------------------------------\n",
            "20th Interation:\n",
            "x = 10, y = 0.656, z = 0.23\n",
            "-------------------------------------------------------------------\n"
          ]
        },
        {
          "output_type": "display_data",
          "data": {
            "text/plain": [
              "<Figure size 432x288 with 1 Axes>"
            ],
            "image/png": "[encoded data removed]"
          },
          "metadata": {
            "needs_background": "light"
          }
        }
      ]
    }
  ]
}