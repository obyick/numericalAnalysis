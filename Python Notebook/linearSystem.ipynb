{
  "nbformat": 4,
  "nbformat_minor": 0,
  "metadata": {
    "colab": {
      "provenance": []
    },
    "kernelspec": {
      "name": "python3",
      "display_name": "Python 3"
    },
    "language_info": {
      "name": "python"
    }
  },
  "cells": [
    {
      "cell_type": "markdown",
      "source": [
        "# **Library**"
      ],
      "metadata": {
        "id": "JxEZuvvyUqJi"
      }
    },
    {
      "cell_type": "code",
      "source": [
        "import numpy as np # numerical python"
      ],
      "metadata": {
        "id": "P4ZmpfhCUxZZ"
      },
      "execution_count": 1,
      "outputs": []
    },
    {
      "cell_type": "markdown",
      "source": [
        "# **Arrays and Variables**"
      ],
      "metadata": {
        "id": "pq36P_xCUzvp"
      }
    },
    {
      "cell_type": "code",
      "source": [
        "# arrays to test\n",
        "A = np.array([[13, -3, 4],[1, 9, -5], [1, 1, 8]])\n",
        "b = np.array([[-31],[-22],[-47]])\n",
        "\n",
        "size = len(A) # size of A array\n",
        "\n",
        "xsum = lsum = usum = 0 # auxiliares values to sum\n",
        "\n",
        "# initial and cap error\n",
        "erro = 1\n",
        "eMax = 1E-2\n",
        "\n",
        "# endline\n",
        "ndln = '\\n-------------------------------------------------------------------\\n'"
      ],
      "metadata": {
        "id": "QE29XR-UU2vh"
      },
      "execution_count": 2,
      "outputs": []
    },
    {
      "cell_type": "markdown",
      "source": [
        "# **Gauss/LU**\n",
        "\n",
        "*   *The Gauss method consists of change a linear system to an equivalent upper triangular linear system, as can be solved directly with back substitution.*\n",
        "*   *The LU decomposition is that it provides an efficient way to compute the inverse matrix, and it provides a means of evaluating the conditioning of the system.*"
      ],
      "metadata": {
        "id": "22jkL6G8uGpy"
      }
    },
    {
      "cell_type": "code",
      "source": [
        "U = np.concatenate((A, b), 1)\n",
        "L = np.eye(size, size)\n",
        "x = np.zeros(size)\n",
        "\n",
        "for i in range(size):\n",
        "  p = U[i, i]\n",
        "  for j in range(i + 1, size):\n",
        "    fator = U[j, i] / p\n",
        "    L[j][i] = fator\n",
        "    U[j,:] = U[j,:] - fator * U[i,:]\n",
        "\n",
        "for i in range(size):\n",
        "  for j in range(size):\n",
        "    A[i][j] = U[i][j]\n",
        "    b[i] = U[i, size]\n",
        "    \n",
        "for i in range(size - 1, -1, -1):\n",
        "  sum = 0\n",
        "  for j in range(size - 1, -1, -1):\n",
        "    sum = sum + (A[i][j]) * (x[j])\n",
        "  x[i] = ((b[i] - sum) / (A[i][i]))\n",
        "\n",
        "for i in range(size):\n",
        "  xsum = xsum + x[i]\n",
        "  for j in range(size):\n",
        "    usum = usum + U[i, j]\n",
        "    lsum = lsum + L[i, j]\n",
        "\n",
        "print(f'L:\\n{L}',\n",
        "      f'U:\\n{U}',\n",
        "      f'LU:\\n{L@U}',\n",
        "      f'L + U + x(n) = [{xsum+usum+lsum}]',\n",
        "      sep = ndln)"
      ],
      "metadata": {
        "colab": {
          "base_uri": "https://localhost:8080/"
        },
        "id": "Iij2csPTuFjo",
        "outputId": "94234c42-8b8e-4793-a020-71324ba5f741"
      },
      "execution_count": 3,
      "outputs": [
        {
          "output_type": "stream",
          "name": "stdout",
          "text": [
            "L:\n",
            "[[1.         0.         0.        ]\n",
            " [0.07692308 1.         0.        ]\n",
            " [0.07692308 0.11111111 1.        ]]\n",
            "-------------------------------------------------------------------\n",
            "U:\n",
            "[[ 13  -3   4 -31]\n",
            " [  0   9  -5 -19]\n",
            " [  0   0   7 -41]]\n",
            "-------------------------------------------------------------------\n",
            "LU:\n",
            "[[ 13.          -3.           4.         -31.        ]\n",
            " [  1.           8.76923077  -4.69230769 -21.38461538]\n",
            " [  1.           0.76923077   6.75213675 -45.4957265 ]]\n",
            "-------------------------------------------------------------------\n",
            "L + U + x(n) = [15.222222222222221]\n"
          ]
        }
      ]
    },
    {
      "cell_type": "markdown",
      "source": [
        "# **Jacobi**\n",
        "\n",
        "*   *The Jacobi method is a simplification of the Jacobi own values algorithm.*"
      ],
      "metadata": {
        "id": "vRyXYwPvlJRz"
      }
    },
    {
      "cell_type": "code",
      "source": [
        "K = np.zeros((size, size))\n",
        "W = np.zeros((size))\n",
        "y = np.zeros((size))\n",
        "\n",
        "for i in range(0, size):\n",
        "  K[i,:] = A[i,:] / A[i][i]\n",
        "  W[i] = b[i] / A[i][i]\n",
        "  K[i][i] = 0\n",
        "\n",
        "K = -K\n",
        "\n",
        "for it in range(1, 1000):\n",
        "  d = y\n",
        "  y = (K@y) + W\n",
        "  erro = max(abs(y - d)) / max(abs(y))\n",
        "  print(f'{it}th Interation: {y}\\nerror: [{erro}]{ndln}')\n",
        "  if erro < eMax: break\n",
        "\n",
        "\n",
        "print(f'Answer check: {np.round(A@y, 0)}')"
      ],
      "metadata": {
        "colab": {
          "base_uri": "https://localhost:8080/"
        },
        "id": "nwKqG0yBlJvr",
        "outputId": "dab2804d-e446-452b-e046-cb3e2c0e7d87"
      },
      "execution_count": 4,
      "outputs": [
        {
          "output_type": "stream",
          "name": "stdout",
          "text": [
            "1th Interation: [-2.38461538 -2.11111111 -5.85714286]\n",
            "error: [1.0]\n",
            "-------------------------------------------------------------------\n",
            "\n",
            "2th Interation: [-1.06959707 -5.36507937 -5.85714286]\n",
            "error: [0.5555555555555557]\n",
            "-------------------------------------------------------------------\n",
            "\n",
            "3th Interation: [-1.82051282 -5.36507937 -5.85714286]\n",
            "error: [0.12820512820512825]\n",
            "-------------------------------------------------------------------\n",
            "\n",
            "4th Interation: [-1.82051282 -5.36507937 -5.85714286]\n",
            "error: [0.0]\n",
            "-------------------------------------------------------------------\n",
            "\n",
            "Answer check: [-31. -19. -41.]\n"
          ]
        }
      ]
    },
    {
      "cell_type": "markdown",
      "source": [
        "# **Gauss Seidel**\n",
        "\n",
        "*   *The Gauss Seidel method, also known as the method of successive displacement, is an iterative method used to solve a system of linear equations, and is similar to the Jacobi method.*"
      ],
      "metadata": {
        "id": "xQQGOWBvr6T1"
      }
    },
    {
      "cell_type": "code",
      "source": [
        "K = np.eye(size) - np.linalg.inv(np.eye(size)*A)@A\n",
        "w = np.linalg.inv(np.eye(size)*A)@b\n",
        "x = np.zeros((size, 1))\n",
        "\n",
        "for i in range(size):\n",
        "  xold = np.copy(x)\n",
        "  for j in range(size):\n",
        "    x[j, 0] = K[j,:]@x + w[j, 0]\n",
        "    erro = np.max(np.abs(x-xold)) / np.max(np.abs(x))\n",
        "  print(f'\\n{i+1}th Interation\\n',\n",
        "        f'x:\\n{x}',\n",
        "        f'\\nDifference between x in the {i+1}th and {i}th interaction:\\n{x - xold}',\n",
        "        f'\\nerror: [{erro}]\\n',\n",
        "        sep = '\\n', end = ndln)"
      ],
      "metadata": {
        "colab": {
          "base_uri": "https://localhost:8080/"
        },
        "id": "cJRCKxe8r651",
        "outputId": "e7ca94bd-5b63-4c22-9fa4-f5d308fddde0"
      },
      "execution_count": 5,
      "outputs": [
        {
          "output_type": "stream",
          "name": "stdout",
          "text": [
            "\n",
            "1th Interation\n",
            "\n",
            "x:\n",
            "[[-2.38461538]\n",
            " [-2.11111111]\n",
            " [-5.85714286]]\n",
            "\n",
            "Difference between x in the 1th and 0th interaction:\n",
            "[[-2.38461538]\n",
            " [-2.11111111]\n",
            " [-5.85714286]]\n",
            "\n",
            "error: [1.0]\n",
            "\n",
            "-------------------------------------------------------------------\n",
            "\n",
            "2th Interation\n",
            "\n",
            "x:\n",
            "[[-1.06959707]\n",
            " [-5.36507937]\n",
            " [-5.85714286]]\n",
            "\n",
            "Difference between x in the 2th and 1th interaction:\n",
            "[[ 1.31501832]\n",
            " [-3.25396825]\n",
            " [ 0.        ]]\n",
            "\n",
            "error: [0.5555555555555557]\n",
            "\n",
            "-------------------------------------------------------------------\n",
            "\n",
            "3th Interation\n",
            "\n",
            "x:\n",
            "[[-1.82051282]\n",
            " [-5.36507937]\n",
            " [-5.85714286]]\n",
            "\n",
            "Difference between x in the 3th and 2th interaction:\n",
            "[[-0.75091575]\n",
            " [ 0.        ]\n",
            " [ 0.        ]]\n",
            "\n",
            "error: [0.12820512820512825]\n",
            "\n",
            "-------------------------------------------------------------------\n"
          ]
        }
      ]
    },
    {
      "cell_type": "markdown",
      "source": [
        "# **Sassenfeld**\n",
        "\n",
        "*   *The Sassenfeld number is another parameter used to verify the convergence of iterative methods.*"
      ],
      "metadata": {
        "id": "C9FoDpNgriOH"
      }
    },
    {
      "cell_type": "code",
      "source": [
        "K = np.eye(size) - (np.linalg.inv(np.eye(size) * A) @ A)\n",
        "W = (np.linalg.inv(np.eye(size)*A) @ b)\n",
        "beta = np.ones((size, 1))\n",
        "x = np.copy(b)\n",
        "\n",
        "line = 0\n",
        "colunm = 0\n",
        "\n",
        "for i in range(size):\n",
        "  x = K@x + W\n",
        "  beta[i,0] = K[i,:] @ beta\n",
        "  line = line + abs(K[:,i])\n",
        "  colunm = colunm + abs(K[i,:])\n",
        "\n",
        "sass = np.max(abs(beta))\n",
        "\n",
        "print(f'K:\\n{K}', f'Beta:\\n{beta}', f'Sassenfeld: [{sass}]',\n",
        "      f'Line sum: [{np.max(abs(line))}]', \n",
        "      f'Colunm sum: [{np.max(abs(colunm))}]', \n",
        "      sep = ndln)"
      ],
      "metadata": {
        "colab": {
          "base_uri": "https://localhost:8080/"
        },
        "id": "UkVRZ_farins",
        "outputId": "fb55402c-9117-4bfb-f9f1-52cc764c98c0"
      },
      "execution_count": 6,
      "outputs": [
        {
          "output_type": "stream",
          "name": "stdout",
          "text": [
            "K:\n",
            "[[ 0.          0.23076923 -0.30769231]\n",
            " [ 0.          0.          0.55555556]\n",
            " [ 0.          0.          0.        ]]\n",
            "-------------------------------------------------------------------\n",
            "Beta:\n",
            "[[-0.07692308]\n",
            " [ 0.55555556]\n",
            " [ 0.        ]]\n",
            "-------------------------------------------------------------------\n",
            "Sassenfeld: [0.5555555555555556]\n",
            "-------------------------------------------------------------------\n",
            "Line sum: [0.5555555555555556]\n",
            "-------------------------------------------------------------------\n",
            "Colunm sum: [0.8632478632478633]\n"
          ]
        }
      ]
    }
  ]
}