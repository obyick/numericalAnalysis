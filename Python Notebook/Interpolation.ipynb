{
  "nbformat": 4,
  "nbformat_minor": 0,
  "metadata": {
    "colab": {
      "provenance": [],
      "collapsed_sections": [
        "0tiNtFBWQ8vX",
        "hvNHaKquREDX",
        "1h_xijv-c8i6",
        "uSU9v6dTGdB0",
        "7cL9hZ8T0ICZ"
      ]
    },
    "kernelspec": {
      "name": "python3",
      "display_name": "Python 3"
    },
    "language_info": {
      "name": "python"
    }
  },
  "cells": [
    {
      "cell_type": "markdown",
      "source": [
        "# **Libraries**"
      ],
      "metadata": {
        "id": "0tiNtFBWQ8vX"
      }
    },
    {
      "cell_type": "code",
      "source": [
        "import numpy as np # numerical python\n",
        "import matplotlib.pyplot as plt # collection of functions that make matplotlib work"
      ],
      "metadata": {
        "id": "crQbvl10Q9L_"
      },
      "execution_count": 1,
      "outputs": []
    },
    {
      "cell_type": "markdown",
      "source": [
        "# **Arrays and Variables**"
      ],
      "metadata": {
        "id": "hvNHaKquREDX"
      }
    },
    {
      "cell_type": "code",
      "source": [
        "# points\n",
        "x = np.array([[2.2], [3.3], [4.4], [5.5], [6.6], [7.7]])\n",
        "y = np.array([[-2.8], [-10.8], [-5.9], [21.4], [41.4], [9.1]])\n",
        "p = 5.2\n",
        "\n",
        "# degree of the polynomial\n",
        "n = 2\n",
        "gp = n + 1\n",
        "\n",
        "b = 2 # b(n) = t(n)\n",
        "\n",
        "# endline\n",
        "ndln = '\\n-------------------------------------------------------------------\\n'"
      ],
      "metadata": {
        "id": "0JrvW4ImRJ7-"
      },
      "execution_count": 2,
      "outputs": []
    },
    {
      "cell_type": "markdown",
      "source": [
        "# **leastSquares**\n",
        "\n",
        "*   *Form of Linear regression known as a special case of Multiple linear regression which estimates the relationship as an nth degree polynomial.*"
      ],
      "metadata": {
        "id": "1h_xijv-c8i6"
      }
    },
    {
      "cell_type": "code",
      "source": [
        "# impossible system coefficients matrix\n",
        "X = x**0\n",
        "for i in range(1, n + 1):\n",
        "  X = np.concatenate((X, x**i), 1)\n",
        "\n",
        "# assembling the possible and determined system\n",
        "XtX = (X.T)@X\n",
        "XtY = (X.T)@y\n",
        "\n",
        "ac = np.linalg.solve(XtX, XtY) # solve the system and determine values of a0, a1 and a2"
      ],
      "metadata": {
        "id": "hdgoNe9dc_Gk"
      },
      "execution_count": 3,
      "outputs": []
    },
    {
      "cell_type": "markdown",
      "source": [
        "# **Lagrange method**\n",
        "\n",
        "*   *Way to find a polynomial that takes on certain values at arbitrary points.*"
      ],
      "metadata": {
        "id": "uSU9v6dTGdB0"
      }
    },
    {
      "cell_type": "code",
      "source": [
        "# best point definition matrices\n",
        "resx = np.zeros((gp))\n",
        "resy = np.zeros((gp))\n",
        "minx = np.copy(x) - p\n",
        "miny = np.copy(y)\n",
        "\n",
        "# sets the three coordinates closest to the point\n",
        "for i in range(gp):\n",
        "  for j in range(len(x)):\n",
        "    if abs(minx[j]) == np.min(abs(minx)):\n",
        "      resx[i] = minx[j] + p\n",
        "      resy[i] = miny[j]\n",
        "      minx[j] = 1E50\n",
        "      break\n",
        "\n",
        "# Lagrange\n",
        "def interpolacaoLagrange(x, y, p):\n",
        "  size = len(resx)\n",
        "  s = 0\n",
        "  for i in range(size):\n",
        "      L = 1\n",
        "      for j in range(size):\n",
        "        if i != j:\n",
        "          L *= (p - resx[j])/(resx[i] - resx[j])\n",
        "      s += L * resy[i]\n",
        "  return s\n",
        "  \n",
        "s = interpolacaoLagrange(x, y, p)\n",
        "\n",
        "# results\n",
        "print(f'g({np.round(p, 4)}): [{np.round(s, 2)}]', end = ndln)\n",
        "\n",
        "# graph coordinates\n",
        "xg = np.linspace((np.min(x)), (np.max(x)), 100)\n",
        "yg = 0\n",
        "for i in range(n + 1):\n",
        "  yg = yg + ((ac[i,0])*(xg**i))\n",
        "\n",
        "# graph plot\n",
        "plt.title(f'Degree {n} Polynomial Function')\n",
        "plt.xlabel('x')\n",
        "plt.ylabel('g(x)')\n",
        "plt.axvline(p)\n",
        "plt.axhline(s)\n",
        "plt.grid()\n",
        "plt.plot(x, y, 'o')\n",
        "plt.plot(p, s, 'o')\n",
        "plt.plot(xg, yg)\n",
        "plt.show()"
      ],
      "metadata": {
        "colab": {
          "base_uri": "https://localhost:8080/",
          "height": 0
        },
        "id": "zRqHTJg3KAFB",
        "outputId": "1238bda5-93ae-4c79-d0c4-e5deac5d289f"
      },
      "execution_count": 4,
      "outputs": [
        {
          "output_type": "stream",
          "name": "stdout",
          "text": [
            "g(5.2): [14.68]\n",
            "-------------------------------------------------------------------\n"
          ]
        },
        {
          "output_type": "display_data",
          "data": {
            "text/plain": [
              "<Figure size 432x288 with 1 Axes>"
            ],
            "image/png": "[encoded data removed]"
          },
          "metadata": {
            "needs_background": "light"
          }
        }
      ]
    },
    {
      "cell_type": "markdown",
      "source": [
        "# **Newton method**\n",
        "\n",
        "*   *Technique used when the interval difference is not same for all sequence of values.*"
      ],
      "metadata": {
        "id": "7cL9hZ8T0ICZ"
      }
    },
    {
      "cell_type": "code",
      "source": [
        "# divided differences method\n",
        "size = len(y)\n",
        "T = [item for item in y]\n",
        "t = [y[0]] + [0] * (size - 1)\n",
        "for i in range(size - 1):\n",
        "  for j in range(size - 1 - i):\n",
        "    T[j] = (T[j + 1] - T[j]) / (x[j + i + 1] - x[j])\n",
        "  t[i + 1] = T[0]\n",
        "t = np.copy(t)\n",
        "\n",
        "# Newton\n",
        "size = len(x)\n",
        "s = 0\n",
        "for i in range(size):\n",
        "  L = 1\n",
        "  for j in range(i):\n",
        "    L *= (p - x[j])\n",
        "  s += t[i] * L\n",
        "  \n",
        "# results\n",
        "print(f'f({np.round(p, 4)}): {np.round(s, 2)}',\n",
        "      f'Divided differences:\\n{t}',\n",
        "      f'f({np.round(p, 2)}) + b({b}): {np.round(s + t[b], 2)}',\n",
        "      sep = ndln,\n",
        "      end = ndln)\n",
        "\n",
        "# graph coordinates\n",
        "xg = np.linspace((np.min(x)), (np.max(x)), 100)\n",
        "yg = 0\n",
        "for i in range(n + 1):\n",
        "  yg = yg + ((ac[i,0])*(xg**i))\n",
        "\n",
        "# graph plot\n",
        "plt.title(f'Degree {n} Polynomial Function')\n",
        "plt.xlabel('x')\n",
        "plt.ylabel('g(x)')\n",
        "plt.axvline(p)\n",
        "plt.axhline(s)\n",
        "plt.grid()\n",
        "plt.plot(x, y, 'o')\n",
        "plt.plot(p, s, 'o')\n",
        "plt.plot(xg, yg)\n",
        "plt.show()"
      ],
      "metadata": {
        "colab": {
          "base_uri": "https://localhost:8080/",
          "height": 0
        },
        "id": "danIK7Ae0KSB",
        "outputId": "911be84d-f05b-47d6-b828-c5fa0f342a76"
      },
      "execution_count": 5,
      "outputs": [
        {
          "output_type": "stream",
          "name": "stdout",
          "text": [
            "f(5.2): [12.95]\n",
            "-------------------------------------------------------------------\n",
            "Divided differences:\n",
            "[[-2.8       ]\n",
            " [-7.27272727]\n",
            " [ 5.33057851]\n",
            " [ 1.18958177]\n",
            " [-1.11558864]\n",
            " [ 0.12366683]]\n",
            "-------------------------------------------------------------------\n",
            "f(5.2) + b(2): [18.28]\n",
            "-------------------------------------------------------------------\n"
          ]
        },
        {
          "output_type": "display_data",
          "data": {
            "text/plain": [
              "<Figure size 432x288 with 1 Axes>"
            ],
            "image/png": "[encoded data removed]"
          },
          "metadata": {
            "needs_background": "light"
          }
        }
      ]
    }
  ]
}