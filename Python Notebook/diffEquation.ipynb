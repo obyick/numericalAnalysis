{
  "nbformat": 4,
  "nbformat_minor": 0,
  "metadata": {
    "colab": {
      "provenance": [],
      "collapsed_sections": [
        "0tiNtFBWQ8vX",
        "hvNHaKquREDX",
        "qdHiTm7tl58j",
        "Mdw6kBQ_keC5",
        "3pPoKjnCjEXZ",
        "uB67O-VtfdOO"
      ]
    },
    "kernelspec": {
      "name": "python3",
      "display_name": "Python 3"
    },
    "language_info": {
      "name": "python"
    }
  },
  "cells": [
    {
      "cell_type": "markdown",
      "source": [
        "# **Libraries**"
      ],
      "metadata": {
        "id": "0tiNtFBWQ8vX"
      }
    },
    {
      "cell_type": "code",
      "source": [
        "import numpy as np # numerical python\n",
        "import matplotlib.pyplot as plt # collection of functions that make matplotlib work"
      ],
      "metadata": {
        "id": "crQbvl10Q9L_"
      },
      "execution_count": 1,
      "outputs": []
    },
    {
      "cell_type": "markdown",
      "source": [
        "# **Functions and Variables**"
      ],
      "metadata": {
        "id": "hvNHaKquREDX"
      }
    },
    {
      "cell_type": "code",
      "source": [
        "# function\n",
        "def g(x, y):\n",
        "  return -0.06 * np.sqrt(y)\n",
        "\n",
        "# points\n",
        "a = 0; b = 5; h = 1\n",
        "X = a; Y = 3\n",
        "\n",
        "# endline\n",
        "ndln = '\\n-------------------------------------------------------------------\\n'"
      ],
      "metadata": {
        "id": "0JrvW4ImRJ7-"
      },
      "execution_count": 2,
      "outputs": []
    },
    {
      "cell_type": "markdown",
      "source": [
        "# **Euler**\n",
        "\n",
        "*   *Uses the tangent to the curve at the initial point to check for the next estimate.*"
      ],
      "metadata": {
        "id": "qdHiTm7tl58j"
      }
    },
    {
      "cell_type": "code",
      "source": [
        "# auxiliary array\n",
        "n = int(abs((b - a) / h))\n",
        "x = np.zeros(n + 1)\n",
        "y = np.zeros(n + 1)\n",
        "\n",
        "# initial values\n",
        "x[0] = X\n",
        "y[0] = Y\n",
        "\n",
        "# Euler\n",
        "for i in range(n):\n",
        "  k = g(x[i], y[i])\n",
        "  x[i + 1] = x[i] + h\n",
        "  y[i + 1] = y[i] + (h * k)\n",
        "\n",
        "# output\n",
        "for i in range(len(x)):\n",
        "  print(f'{i}th Interation:\\nx = {round(x[i])}, y = {round(y[i], 3)}',\n",
        "        end = ndln)\n",
        "\n",
        "# graphic\n",
        "plt.plot(x, y)\n",
        "plt.xlabel('x')\n",
        "plt.ylabel('g(x)')\n",
        "plt.plot(x, y, 'o')\n",
        "plt.grid()\n",
        "plt.show()"
      ],
      "metadata": {
        "colab": {
          "base_uri": "https://localhost:8080/",
          "height": 0
        },
        "id": "rDycxWnVl8aO",
        "outputId": "347cd6b0-e99d-46cf-faf9-cf9b5de3a867"
      },
      "execution_count": 3,
      "outputs": [
        {
          "output_type": "stream",
          "name": "stdout",
          "text": [
            "0th Interation:\n",
            "x = 0, y = 3.0\n",
            "-------------------------------------------------------------------\n",
            "1th Interation:\n",
            "x = 1, y = 2.896\n",
            "-------------------------------------------------------------------\n",
            "2th Interation:\n",
            "x = 2, y = 2.794\n",
            "-------------------------------------------------------------------\n",
            "3th Interation:\n",
            "x = 3, y = 2.694\n",
            "-------------------------------------------------------------------\n",
            "4th Interation:\n",
            "x = 4, y = 2.595\n",
            "-------------------------------------------------------------------\n",
            "5th Interation:\n",
            "x = 5, y = 2.499\n",
            "-------------------------------------------------------------------\n"
          ]
        },
        {
          "output_type": "display_data",
          "data": {
            "text/plain": [
              "<Figure size 432x288 with 1 Axes>"
            ],
            "image/png": "[encoded data removed]"
          },
          "metadata": {
            "needs_background": "light"
          }
        }
      ]
    },
    {
      "cell_type": "markdown",
      "source": [
        "# **Heun**\n",
        "\n",
        "*   *Two tangents on both sides of the curve: One tangent overestimates while the other underestimates.*"
      ],
      "metadata": {
        "id": "Mdw6kBQ_keC5"
      }
    },
    {
      "cell_type": "code",
      "source": [
        "# auxiliary array\n",
        "n = int(abs((b - a) / h))\n",
        "x = np.zeros(n + 1)\n",
        "y = np.zeros(n + 1)\n",
        "\n",
        "# initial values\n",
        "x[0] = X\n",
        "y[0] = Y\n",
        "\n",
        "# heun\n",
        "for i in range(n):\n",
        "  k1 = g(x[i], y[i])\n",
        "  k2 = g(x[i] + h, y[i] + (k1 * h))\n",
        "  phi = h * (k1 + k2)\n",
        "  x[i + 1] = x[i] + h\n",
        "  y[i + 1] = y[i] + (phi * h)\n",
        "\n",
        "# output\n",
        "for i in range(len(x)):\n",
        "  print(f'{i}th Interation:\\nx = {round(x[i])}, y = {round(y[i], 3)}',\n",
        "        end = ndln)\n",
        "\n",
        "# graphic\n",
        "plt.plot(x, y)\n",
        "plt.xlabel('x')\n",
        "plt.ylabel('g(x)')\n",
        "plt.plot(x, y, 'o')\n",
        "plt.grid()\n",
        "plt.show()"
      ],
      "metadata": {
        "colab": {
          "base_uri": "https://localhost:8080/",
          "height": 0
        },
        "id": "P-om1BIckf25",
        "outputId": "a7017edf-9d30-48d8-cec7-04ebbca31252"
      },
      "execution_count": 4,
      "outputs": [
        {
          "output_type": "stream",
          "name": "stdout",
          "text": [
            "0th Interation:\n",
            "x = 0, y = 3.0\n",
            "-------------------------------------------------------------------\n",
            "1th Interation:\n",
            "x = 1, y = 2.794\n",
            "-------------------------------------------------------------------\n",
            "2th Interation:\n",
            "x = 2, y = 2.595\n",
            "-------------------------------------------------------------------\n",
            "3th Interation:\n",
            "x = 3, y = 2.404\n",
            "-------------------------------------------------------------------\n",
            "4th Interation:\n",
            "x = 4, y = 2.219\n",
            "-------------------------------------------------------------------\n",
            "5th Interation:\n",
            "x = 5, y = 2.043\n",
            "-------------------------------------------------------------------\n"
          ]
        },
        {
          "output_type": "display_data",
          "data": {
            "text/plain": [
              "<Figure size 432x288 with 1 Axes>"
            ],
            "image/png": "[encoded data removed]"
          },
          "metadata": {
            "needs_background": "light"
          }
        }
      ]
    },
    {
      "cell_type": "markdown",
      "source": [
        "# **Midpoint**\n",
        "\n",
        "*   *Note that the midpoint method can refer to Heun's method*"
      ],
      "metadata": {
        "id": "3pPoKjnCjEXZ"
      }
    },
    {
      "cell_type": "code",
      "source": [
        "# auxiliary array\n",
        "n = int(abs((b - a) / h))\n",
        "x = np.zeros(n + 1)\n",
        "y = np.zeros(n + 1)\n",
        "\n",
        "# initial values\n",
        "x[0] = X\n",
        "y[0] = Y\n",
        "\n",
        "# Midpoint\n",
        "for i in range(n):\n",
        "  k1 = g(x[i], y[i])\n",
        "  k2 = g(x[i] + (h / 2), y[i] + (k1 * (h / 2)))\n",
        "  phi = k2\n",
        "  x[i + 1] = x[i] + (h)\n",
        "  y[i + 1] = y[i] + (phi * h)\n",
        "\n",
        "# output\n",
        "for i in range(len(x)):\n",
        "  print(f'{i}th Interation:\\nx = {round(x[i])}, y = {round(y[i], 3)}',\n",
        "        end = ndln)\n",
        "\n",
        "# graphic\n",
        "plt.plot(x, y)\n",
        "plt.xlabel('x')\n",
        "plt.ylabel('g(x)')\n",
        "plt.plot(x, y, 'o')\n",
        "plt.grid()\n",
        "plt.show()"
      ],
      "metadata": {
        "colab": {
          "base_uri": "https://localhost:8080/",
          "height": 0
        },
        "id": "k-2OH3msjGXB",
        "outputId": "cdca0d83-6b47-4301-95a5-16bd58b86146"
      },
      "execution_count": 5,
      "outputs": [
        {
          "output_type": "stream",
          "name": "stdout",
          "text": [
            "0th Interation:\n",
            "x = 0, y = 3.0\n",
            "-------------------------------------------------------------------\n",
            "1th Interation:\n",
            "x = 1, y = 2.897\n",
            "-------------------------------------------------------------------\n",
            "2th Interation:\n",
            "x = 2, y = 2.796\n",
            "-------------------------------------------------------------------\n",
            "3th Interation:\n",
            "x = 3, y = 2.696\n",
            "-------------------------------------------------------------------\n",
            "4th Interation:\n",
            "x = 4, y = 2.599\n",
            "-------------------------------------------------------------------\n",
            "5th Interation:\n",
            "x = 5, y = 2.503\n",
            "-------------------------------------------------------------------\n"
          ]
        },
        {
          "output_type": "display_data",
          "data": {
            "text/plain": [
              "<Figure size 432x288 with 1 Axes>"
            ],
            "image/png": "[encoded data removed]"
          },
          "metadata": {
            "needs_background": "light"
          }
        }
      ]
    },
    {
      "cell_type": "markdown",
      "source": [
        "# **Runge–Kutta**\n",
        "\n",
        "*   *The more slopes calculated, the better the accuracy, with each slope associated with a certain compensation coefficient.*"
      ],
      "metadata": {
        "id": "uB67O-VtfdOO"
      }
    },
    {
      "cell_type": "code",
      "execution_count": 6,
      "metadata": {
        "colab": {
          "base_uri": "https://localhost:8080/",
          "height": 0
        },
        "id": "eQOOYeKpfckh",
        "outputId": "01ae6f14-1e55-4d6a-e011-d7af4efd7d55"
      },
      "outputs": [
        {
          "output_type": "stream",
          "name": "stdout",
          "text": [
            "0th Interation:\n",
            "x = 0, y = 3.0\n",
            "-------------------------------------------------------------------\n",
            "1th Interation:\n",
            "x = 1, y = 2.897\n",
            "-------------------------------------------------------------------\n",
            "2th Interation:\n",
            "x = 2, y = 2.796\n",
            "-------------------------------------------------------------------\n",
            "3th Interation:\n",
            "x = 3, y = 2.696\n",
            "-------------------------------------------------------------------\n",
            "4th Interation:\n",
            "x = 4, y = 2.599\n",
            "-------------------------------------------------------------------\n",
            "5th Interation:\n",
            "x = 5, y = 2.503\n",
            "-------------------------------------------------------------------\n",
            "k1 = -0.10032304846333358\n",
            "-------------------------------------------------------------------\n",
            "k2 = -0.09945155889036254\n",
            "-------------------------------------------------------------------\n",
            "k3 = -0.09945974147193438\n",
            "-------------------------------------------------------------------\n",
            "k4 = -0.09858872004622894\n",
            "-------------------------------------------------------------------\n"
          ]
        },
        {
          "output_type": "display_data",
          "data": {
            "text/plain": [
              "<Figure size 432x288 with 1 Axes>"
            ],
            "image/png": "[encoded data removed]"
          },
          "metadata": {
            "needs_background": "light"
          }
        }
      ],
      "source": [
        "# auxiliary array\n",
        "n = int(abs((b - a) / h))\n",
        "x = np.zeros(n + 1)\n",
        "y = np.zeros(n + 1)\n",
        "\n",
        "# initial values\n",
        "x[0] = X\n",
        "y[0] = Y\n",
        "\n",
        "# RK4\n",
        "for i in range(n):\n",
        "  k1 = g(x[i], y[i])\n",
        "  k2 = g(x[i] + (h / 2), y[i] + (k1 * (h / 2)))\n",
        "  k3 = g(x[i] + (h / 2), y[i] + (k2 * (h / 2)))\n",
        "  k4 = g(x[i] + h, y[i] + (k3 * h))\n",
        "  phi = (k1 + (2 * k2) + (2 * k3) + k4) / 6\n",
        "  x[i + 1] = x[i] + (h)\n",
        "  y[i + 1] = y[i] + (h * phi)\n",
        "\n",
        "# output\n",
        "for i in range(len(x)):\n",
        "  print(f'{i}th Interation:\\nx = {round(x[i])}, y = {round(y[i], 3)}',\n",
        "        end = ndln)\n",
        "\n",
        "# output\n",
        "it = 2 \n",
        "print(f'k1 = {g(x[it], y[it])}',\n",
        "      f'k2 = {g(x[it] + (h / 2), y[it] + (k1 * (h / 2)))}',\n",
        "      f'k3 = {g(x[it] + (h / 2), y[it] + (k2 * (h / 2)))}',\n",
        "      f'k4 = {g(x[it] + h, y[it] + (k3 * h))}',\n",
        "      sep = ndln, end = ndln)\n",
        "\n",
        "# graphic\n",
        "plt.plot(x, y)\n",
        "plt.xlabel('x')\n",
        "plt.ylabel('g(x)')\n",
        "plt.plot(x, y, 'o')\n",
        "plt.grid()\n",
        "plt.show()"
      ]
    }
  ]
}